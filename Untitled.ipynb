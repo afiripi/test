{
 "cells": [
  {
   "cell_type": "code",
   "execution_count": 1,
   "id": "078128a1-8018-4dc4-84e3-d8b1f83569bd",
   "metadata": {},
   "outputs": [],
   "source": [
    "import openai"
   ]
  },
  {
   "cell_type": "code",
   "execution_count": 2,
   "id": "ceb87d36-b3d9-4a4e-8a0e-43c3e7170204",
   "metadata": {},
   "outputs": [
    {
     "name": "stdout",
     "output_type": "stream",
     "text": [
      "hello binder\n"
     ]
    }
   ],
   "source": [
    "print(\"hello binder\")"
   ]
  },
  {
   "cell_type": "code",
   "execution_count": null,
   "id": "f1fa2e62-463d-485f-8475-e34ad4c93c4c",
   "metadata": {},
   "outputs": [],
   "source": []
  }
 ],
 "metadata": {
  "kernelspec": {
   "display_name": "Python 3 (ipykernel)",
   "language": "python",
   "name": "python3"
  },
  "language_info": {
   "codemirror_mode": {
    "name": "ipython",
    "version": 3
   },
   "file_extension": ".py",
   "mimetype": "text/x-python",
   "name": "python",
   "nbconvert_exporter": "python",
   "pygments_lexer": "ipython3",
   "version": "3.13.5"
  }
 },
 "nbformat": 4,
 "nbformat_minor": 5
}
